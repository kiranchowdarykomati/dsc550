{
 "cells": [
  {
   "cell_type": "code",
   "execution_count": 1,
   "id": "350674e8",
   "metadata": {},
   "outputs": [],
   "source": [
    "import numpy as np\n",
    "from keras.datasets import mnist\n",
    "from keras.models import Sequential\n",
    "from keras.layers import Dense, Dropout, Flatten\n",
    "from keras.layers.convolutional import Conv2D, MaxPooling2D\n",
    "from keras.utils import np_utils\n",
    "from keras import backend as K"
   ]
  },
  {
   "cell_type": "markdown",
   "id": "d937cdef",
   "metadata": {},
   "source": [
    "# Load the MNIST data set."
   ]
  },
  {
   "cell_type": "code",
   "execution_count": 2,
   "id": "25b3809a",
   "metadata": {},
   "outputs": [],
   "source": [
    "(data_train, target_train), (data_test, target_test) = mnist.load_data()"
   ]
  },
  {
   "cell_type": "code",
   "execution_count": 3,
   "id": "c3cff165",
   "metadata": {},
   "outputs": [
    {
     "data": {
      "text/plain": [
       "(60000, 28, 28)"
      ]
     },
     "execution_count": 3,
     "metadata": {},
     "output_type": "execute_result"
    }
   ],
   "source": [
    "data_train.shape"
   ]
  },
  {
   "cell_type": "markdown",
   "id": "2bf52a24",
   "metadata": {},
   "source": [
    "# Display the first five images in the training data set"
   ]
  },
  {
   "cell_type": "code",
   "execution_count": 4,
   "id": "d53376e0",
   "metadata": {},
   "outputs": [
    {
     "data": {
      "image/png": "[encoded data removed]",
      "text/plain": [
       "<Figure size 432x288 with 1 Axes>"
      ]
     },
     "metadata": {
      "needs_background": "light"
     },
     "output_type": "display_data"
    },
    {
     "data": {
      "image/png": "[encoded data removed]",
      "text/plain": [
       "<Figure size 432x288 with 1 Axes>"
      ]
     },
     "metadata": {
      "needs_background": "light"
     },
     "output_type": "display_data"
    },
    {
     "data": {
      "image/png": "[encoded data removed]",
      "text/plain": [
       "<Figure size 432x288 with 1 Axes>"
      ]
     },
     "metadata": {
      "needs_background": "light"
     },
     "output_type": "display_data"
    },
    {
     "data": {
      "image/png": "[encoded data removed]",
      "text/plain": [
       "<Figure size 432x288 with 1 Axes>"
      ]
     },
     "metadata": {
      "needs_background": "light"
     },
     "output_type": "display_data"
    },
    {
     "data": {
      "image/png": "[encoded data removed]",
      "text/plain": [
       "<Figure size 432x288 with 1 Axes>"
      ]
     },
     "metadata": {
      "needs_background": "light"
     },
     "output_type": "display_data"
    }
   ],
   "source": [
    "images=data_train[:5]\n",
    "from matplotlib import pyplot as plt\n",
    "\n",
    "for image in images:\n",
    "    # Show image\n",
    "    plt.imshow(image, cmap=\"gray\"), plt.axis(\"off\")\n",
    "    plt.show()"
   ]
  },
  {
   "cell_type": "markdown",
   "id": "5e5a678a",
   "metadata": {},
   "source": [
    "# Compare these to the first five training labels"
   ]
  },
  {
   "cell_type": "code",
   "execution_count": 5,
   "id": "472ba6dd",
   "metadata": {},
   "outputs": [
    {
     "name": "stdout",
     "output_type": "stream",
     "text": [
      "[5 0 4 1 9]\n"
     ]
    }
   ],
   "source": [
    "labels=target_train[:5]\n",
    "print(labels)"
   ]
  },
  {
   "cell_type": "markdown",
   "id": "f60a30a7",
   "metadata": {},
   "source": [
    "# Build and train a Keras CNN classifier on the MNIST training set."
   ]
  },
  {
   "cell_type": "code",
   "execution_count": 6,
   "id": "a80af53a",
   "metadata": {},
   "outputs": [],
   "source": [
    "# Set image information\n",
    "channels = 1\n",
    "height = 28\n",
    "width = 28"
   ]
  },
  {
   "cell_type": "code",
   "execution_count": 7,
   "id": "ceb4d1b9",
   "metadata": {},
   "outputs": [
    {
     "data": {
      "text/plain": [
       "60000"
      ]
     },
     "execution_count": 7,
     "metadata": {},
     "output_type": "execute_result"
    }
   ],
   "source": [
    "data_train.shape[0]"
   ]
  },
  {
   "cell_type": "code",
   "execution_count": 8,
   "id": "a325b96b",
   "metadata": {},
   "outputs": [],
   "source": [
    "# Reshape training image data into features\n",
    "data_train = data_train.reshape(data_train.shape[0],height, width, channels).astype('float32')\n",
    "# Reshape test image data into features\n",
    "data_test = data_test.reshape(data_test.shape[0], height, width,channels).astype('float32')\n",
    "# Rescale pixel intensity to between 0 and 1\n",
    "features_train = data_train / 255\n",
    "features_test = data_test / 255"
   ]
  },
  {
   "cell_type": "code",
   "execution_count": 9,
   "id": "32337880",
   "metadata": {},
   "outputs": [],
   "source": [
    "# One-hot encode target\n",
    "number_of_classes = 10\n",
    "target_train = np_utils.to_categorical(target_train,10)\n",
    "target_test = np_utils.to_categorical(target_test,10)\n",
    "\n",
    "# Start neural network\n",
    "network = Sequential()"
   ]
  },
  {
   "cell_type": "code",
   "execution_count": 10,
   "id": "626b8f23",
   "metadata": {},
   "outputs": [],
   "source": [
    "# Add convolutional layer with 64 filters, a 5x5 window, and ReLU activation function\n",
    "network.add(Conv2D(filters=64,kernel_size=(5, 5),input_shape=(height, width,channels)))"
   ]
  },
  {
   "cell_type": "code",
   "execution_count": 11,
   "id": "45df8ea2",
   "metadata": {},
   "outputs": [],
   "source": [
    "# Add max pooling layer with a 2x2 window\n",
    "network.add(MaxPooling2D(pool_size=(2, 2)))\n",
    "\n",
    "# Add dropout layer\n",
    "network.add(Dropout(0.5))\n",
    "\n",
    "# Add layer to flatten input\n",
    "network.add(Flatten())\n",
    "\n",
    "# # Add fully connected layer of 128 units with a ReLU activation function\n",
    "network.add(Dense(128, activation=\"relu\"))\n",
    "\n",
    "# Add dropout layer\n",
    "network.add(Dropout(0.5))"
   ]
  },
  {
   "cell_type": "code",
   "execution_count": 12,
   "id": "e71f7178",
   "metadata": {},
   "outputs": [
    {
     "name": "stdout",
     "output_type": "stream",
     "text": [
      "Epoch 1/2\n",
      "60/60 [==============================] - 36s 574ms/step - loss: 0.5213 - accuracy: 0.8399 - val_loss: 0.2068 - val_accuracy: 0.9388\n",
      "Epoch 2/2\n",
      "60/60 [==============================] - 34s 569ms/step - loss: 0.2278 - accuracy: 0.9338 - val_loss: 0.1106 - val_accuracy: 0.9662\n"
     ]
    },
    {
     "data": {
      "text/plain": [
       "<keras.callbacks.History at 0x1758f572490>"
      ]
     },
     "execution_count": 12,
     "metadata": {},
     "output_type": "execute_result"
    }
   ],
   "source": [
    "# Add fully connected layer with a softmax activation function\n",
    "network.add(Dense(number_of_classes, activation=\"softmax\"))\n",
    "\n",
    "# Compile neural network\n",
    "network.compile(loss=\"categorical_crossentropy\", # Cross-entropy\n",
    "optimizer=\"rmsprop\", # Root Mean Square Propagation\n",
    "metrics=[\"accuracy\"]) # Accuracy performance metric\n",
    "\n",
    "# Train neural network\n",
    "# Fitting our model \n",
    "network.fit(features_train, # Features\n",
    "target_train, # Target\n",
    "epochs=2, # Number of epochs\n",
    "batch_size=1000, # Number of observations per batch\n",
    "validation_data=(features_test, target_test)\n",
    ")"
   ]
  },
  {
   "cell_type": "markdown",
   "id": "ea02dd8c",
   "metadata": {},
   "source": [
    "# Report the test accuracy of your model."
   ]
  },
  {
   "cell_type": "code",
   "execution_count": 13,
   "id": "82ffdb8c",
   "metadata": {},
   "outputs": [
    {
     "name": "stdout",
     "output_type": "stream",
     "text": [
      "loss: 0.11064561456441879\n",
      "accuracy: 0.9661999940872192\n"
     ]
    }
   ],
   "source": [
    "loss, accuracy = network.evaluate(features_test, target_test, verbose = 0, batch_size = 200)\n",
    "\n",
    "print('loss:', loss)\n",
    "print('accuracy:', accuracy)"
   ]
  },
  {
   "cell_type": "code",
   "execution_count": 14,
   "id": "6bd9acfd",
   "metadata": {},
   "outputs": [
    {
     "name": "stdout",
     "output_type": "stream",
     "text": [
      "313/313 [==============================] - 2s 7ms/step\n"
     ]
    }
   ],
   "source": [
    "target_predict = np.argmax(network.predict(features_test), axis = 1)\n",
    "target_test_max = np.argmax(target_test,axis = 1) "
   ]
  },
  {
   "cell_type": "markdown",
   "id": "942d5378",
   "metadata": {},
   "source": [
    "# Display a confusion matrix on the test set classifications."
   ]
  },
  {
   "cell_type": "code",
   "execution_count": 15,
   "id": "48d1dcf5",
   "metadata": {},
   "outputs": [
    {
     "data": {
      "text/plain": [
       "array([[ 971,    0,    2,    1,    0,    1,    3,    1,    1,    0],\n",
       "       [   0, 1123,    4,    2,    1,    0,    3,    0,    2,    0],\n",
       "       [   6,    0,  997,    3,    4,    0,    5,    8,    8,    1],\n",
       "       [   0,    0,    9,  978,    0,    8,    0,    6,    8,    1],\n",
       "       [   2,    1,    3,    0,  945,    0,    9,    1,    2,   19],\n",
       "       [   6,    0,    0,   12,    0,  856,    8,    1,    4,    5],\n",
       "       [  10,    3,    0,    1,    4,    7,  928,    0,    5,    0],\n",
       "       [   2,    8,   17,    5,    1,    0,    0,  974,    2,   19],\n",
       "       [   5,    1,    6,   12,    3,    3,    8,    7,  925,    4],\n",
       "       [  11,    6,    1,   10,    7,    1,    0,    5,    3,  965]],\n",
       "      dtype=int64)"
      ]
     },
     "execution_count": 15,
     "metadata": {},
     "output_type": "execute_result"
    }
   ],
   "source": [
    "# Display confusion matrix\n",
    "\n",
    "from sklearn.metrics import confusion_matrix, classification_report\n",
    "\n",
    "matrix=confusion_matrix(target_test_max, target_predict)\n",
    "matrix"
   ]
  },
  {
   "cell_type": "code",
   "execution_count": 16,
   "id": "5cb3ba5e",
   "metadata": {},
   "outputs": [
    {
     "data": {
      "image/png": "[encoded data removed]",
      "text/plain": [
       "<Figure size 720x720 with 1 Axes>"
      ]
     },
     "metadata": {
      "needs_background": "light"
     },
     "output_type": "display_data"
    }
   ],
   "source": [
    "import pandas as pd\n",
    "import seaborn as sns\n",
    "\n",
    "class_names = range(10)\n",
    "\n",
    "# Create pandas dataframe\n",
    "dataframe = pd.DataFrame(matrix, index=class_names, columns=class_names)\n",
    "\n",
    "# Create heatmap\n",
    "plt.figure(figsize=(10, 10))\n",
    "sns.heatmap(dataframe, annot=True, cbar=None, cmap=\"Blues\",fmt='g')\n",
    "plt.title(\"Confusion Matrix\"), plt.tight_layout()\n",
    "plt.ylabel(\"True Class\"), plt.xlabel(\"Predicted Class\")\n",
    "\n",
    "plt.show()"
   ]
  },
  {
   "cell_type": "markdown",
   "id": "5dac3dea",
   "metadata": {},
   "source": [
    "# Overall the model did a good job is identifying the right digits as accuracy is 96.6%"
   ]
  }
 ],
 "metadata": {
  "kernelspec": {
   "display_name": "Python 3",
   "language": "python",
   "name": "python3"
  },
  "language_info": {
   "codemirror_mode": {
    "name": "ipython",
    "version": 3
   },
   "file_extension": ".py",
   "mimetype": "text/x-python",
   "name": "python",
   "nbconvert_exporter": "python",
   "pygments_lexer": "ipython3",
   "version": "3.8.8"
  }
 },
 "nbformat": 4,
 "nbformat_minor": 5
}
